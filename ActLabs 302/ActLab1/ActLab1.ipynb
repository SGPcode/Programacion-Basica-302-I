{
  "nbformat": 4,
  "nbformat_minor": 0,
  "metadata": {
    "colab": {
      "provenance": [],
      "authorship_tag": "ABX9TyNWEbVODz+t6SAv/5duBh0h",
      "include_colab_link": true
    },
    "kernelspec": {
      "name": "python3",
      "display_name": "Python 3"
    },
    "language_info": {
      "name": "python"
    }
  },
  "cells": [
    {
      "cell_type": "markdown",
      "metadata": {
        "id": "view-in-github",
        "colab_type": "text"
      },
      "source": [
        "<a href=\"https://colab.research.google.com/github/SGPcode/Programacion-Basica-302-I/blob/main/ActLabs%20302/ActLab1/ActLab1.ipynb\" target=\"_parent\"><img src=\"https://colab.research.google.com/assets/colab-badge.svg\" alt=\"Open In Colab\"/></a>"
      ]
    },
    {
      "cell_type": "markdown",
      "source": [
        "Actividad de Laboratorio 1 Impresión de Mensajes"
      ],
      "metadata": {
        "id": "peC6Cze3xhoU"
      }
    },
    {
      "cell_type": "markdown",
      "source": [
        "PB302_1.cpp Programa para Bienvenida"
      ],
      "metadata": {
        "id": "_y2bY7D-mmaf"
      }
    },
    {
      "cell_type": "code",
      "source": [
        "%%writefile PB302_1.cpp\n",
        "//Programa para imprimir mensaje de bienvenida\n",
        "//Creado por Sergio González Pérez\n",
        "//Fecha: 15/Septiembre/2025\n",
        "//PB302_1.cpp\n",
        "#include <iostream>\n",
        "using namespace std;\n",
        "int main()\n",
        "{\n",
        "  cout<<\"Bienvenido Sergio a Programación Básica en C++\\n\";\n",
        "  cout<<\"Gracias por Programar en clase\";\n",
        "  return 0;\n",
        "}"
      ],
      "metadata": {
        "colab": {
          "base_uri": "https://localhost:8080/"
        },
        "id": "iVa95PyPnLtn",
        "outputId": "c16a8fc2-1e70-4007-829b-e342de652ae7"
      },
      "execution_count": null,
      "outputs": [
        {
          "output_type": "stream",
          "name": "stdout",
          "text": [
            "Overwriting PB302_1.cpp\n"
          ]
        }
      ]
    },
    {
      "cell_type": "code",
      "source": [
        "!g++ PB302_1.cpp -o PB302_1\n",
        "!./PB302_1"
      ],
      "metadata": {
        "colab": {
          "base_uri": "https://localhost:8080/"
        },
        "id": "HTIoZFrJpw3u",
        "outputId": "4d0e1461-0ea3-4eaf-91db-f0d0aaedb049"
      },
      "execution_count": null,
      "outputs": [
        {
          "output_type": "stream",
          "name": "stdout",
          "text": [
            "Bienvenido Sergio a Programación Básica en C++\n",
            "Gracias por Programar en clase"
          ]
        }
      ]
    },
    {
      "cell_type": "markdown",
      "source": [
        "PB302_2.- Programa para Imprimir Datos Personales"
      ],
      "metadata": {
        "id": "oLnIo3__9ED7"
      }
    },
    {
      "cell_type": "code",
      "source": [
        "%%writefile PB302_2.cpp\n",
        "//Programa para imprimir mensaje de bienvenida\n",
        "//Creado por Sergio González Pérez\n",
        "//Fecha: 15/Septiembre/2025\n",
        "//PB302_2.cpp\n",
        "#include <iostream>\n",
        "using namespace std;\n",
        "int main()\n",
        "{\n",
        "  char nombre[10]=\"Sergio\";\n",
        "  char paterno[10]=\"González\";\n",
        "  char materno[10]=\"Pérez\";\n",
        "  cout<<\"Los datos Definidos son los siguientes:\\n\";\n",
        "  cout<<\"Nombre: \"<<nombre<<\"\\n\";\n",
        "  cout<<\"Paterno: \"<<paterno<<\"\\n\";\n",
        "  cout<<\"Materno: \"<<materno<<\"\\n\";\n",
        "\n",
        "  return 0;\n",
        "}"
      ],
      "metadata": {
        "colab": {
          "base_uri": "https://localhost:8080/"
        },
        "id": "YuAJILty_R5o",
        "outputId": "53b6cd1b-b75e-43cd-9134-95ca8ac373ec"
      },
      "execution_count": 10,
      "outputs": [
        {
          "output_type": "stream",
          "name": "stdout",
          "text": [
            "Overwriting PB302_2.cpp\n"
          ]
        }
      ]
    },
    {
      "cell_type": "code",
      "source": [
        "!g++ PB302_2.cpp -o PB302_2\n",
        "!./PB302_2"
      ],
      "metadata": {
        "colab": {
          "base_uri": "https://localhost:8080/"
        },
        "id": "GZME8ZBs9zYh",
        "outputId": "a3938112-f281-4575-97dc-2261ed3affbe"
      },
      "execution_count": 7,
      "outputs": [
        {
          "output_type": "stream",
          "name": "stdout",
          "text": [
            "Los datos Definidos son los siguientes:\n",
            "Nombre: Sergio\n",
            "Paterno: González\n",
            "Materno: Pérez\n"
          ]
        }
      ]
    }
  ]
}