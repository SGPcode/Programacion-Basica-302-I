{
  "nbformat": 4,
  "nbformat_minor": 0,
  "metadata": {
    "colab": {
      "provenance": [],
      "authorship_tag": "ABX9TyOk/stdNq6s28SUJdePXRef",
      "include_colab_link": true
    },
    "kernelspec": {
      "name": "python3",
      "display_name": "Python 3"
    },
    "language_info": {
      "name": "python"
    }
  },
  "cells": [
    {
      "cell_type": "markdown",
      "metadata": {
        "id": "view-in-github",
        "colab_type": "text"
      },
      "source": [
        "<a href=\"https://colab.research.google.com/github/SGPcode/Programacion-Basica-302-I/blob/main/ActLabs%20302/ActLab1/ActLab1.ipynb\" target=\"_parent\"><img src=\"https://colab.research.google.com/assets/colab-badge.svg\" alt=\"Open In Colab\"/></a>"
      ]
    },
    {
      "cell_type": "markdown",
      "source": [
        "Actividad de Laboratorio 1 Impresión de Mensajes"
      ],
      "metadata": {
        "id": "peC6Cze3xhoU"
      }
    },
    {
      "cell_type": "markdown",
      "source": [
        "PB302_1.cpp Programa para Bienvenida"
      ],
      "metadata": {
        "id": "_y2bY7D-mmaf"
      }
    },
    {
      "cell_type": "code",
      "source": [
        "%%writefile PB302_1.cpp\n",
        "//Programa para imprimir mensaje de bienvenida\n",
        "//Creado por Sergio González Pérez\n",
        "//Fecha: 15/Septiembre/2025\n",
        "//PB302_1.cpp\n",
        "#include <iostream>\n",
        "using namespace std;\n",
        "int main()\n",
        "{\n",
        "  cout<<\"Bienvenido Sergio a Programación Básica en C++\\n\";\n",
        "  cout<<\"Gracias por Programar en clase\";\n",
        "  return 0;\n",
        "}"
      ],
      "metadata": {
        "colab": {
          "base_uri": "https://localhost:8080/"
        },
        "id": "iVa95PyPnLtn",
        "outputId": "6f85159e-a029-48af-9c26-114aa63089d7"
      },
      "execution_count": null,
      "outputs": [
        {
          "output_type": "stream",
          "name": "stdout",
          "text": [
            "Writing PB302_1.cpp\n"
          ]
        }
      ]
    },
    {
      "cell_type": "code",
      "source": [
        "!g++ PB302_1.cpp -o PB302_1\n",
        "!./PB302_1"
      ],
      "metadata": {
        "colab": {
          "base_uri": "https://localhost:8080/"
        },
        "id": "HTIoZFrJpw3u",
        "outputId": "ddcea0ad-cacf-47ab-fe84-8e7dff85b6f6"
      },
      "execution_count": null,
      "outputs": [
        {
          "output_type": "stream",
          "name": "stdout",
          "text": [
            "Bienvenido Sergio a Programación Básica en C++\n",
            "Gracias por Programar en clase"
          ]
        }
      ]
    },
    {
      "cell_type": "markdown",
      "source": [
        "PB302_2.- Programa para Imprimir Datos Personales"
      ],
      "metadata": {
        "id": "Dj6EsjgyBzsm"
      }
    },
    {
      "cell_type": "code",
      "source": [
        "%%writefile PB302_2.cpp\n",
        "//Programa para imprimir mensaje de bienvenida\n",
        "//Creado por Sergio González Pérez\n",
        "//Fecha: 15/Septiembre/2025\n",
        "//PB302_2.cpp\n",
        "#include <iostream>\n",
        "using namespace std;\n",
        "int main()\n",
        "{\n",
        "  char nombre[10]=\"Sergio\";\n",
        "  char paterno[10]=\"González\";\n",
        "  char materno[10]=\"Pérez\";\n",
        "  cout<<\"Los datos Definidos son los siguientes:\\n\";\n",
        "  cout<<\"Nombre: \"<<nombre<<\"\\n\";\n",
        "  cout<<\"Paterno: \"<<paterno<<\"\\n\";\n",
        "  cout<<\"Materno: \"<<materno<<\"\\n\";\n",
        "  return 0;\n",
        "}"
      ],
      "metadata": {
        "id": "3TD2fUv1B3Gx"
      },
      "execution_count": null,
      "outputs": []
    },
    {
      "cell_type": "code",
      "source": [
        "!g++ PB302_2.cpp -o PB302_2\n",
        "!./PB302_2"
      ],
      "metadata": {
        "colab": {
          "base_uri": "https://localhost:8080/"
        },
        "id": "hOsKkbLQCkLG",
        "outputId": "fd4f93d3-4c46-4b7e-c18a-7b5b73378c2d"
      },
      "execution_count": null,
      "outputs": [
        {
          "output_type": "stream",
          "name": "stdout",
          "text": [
            "Los datos Definidos son los siguientes:\n",
            "Nombre: Sergio\n",
            "Paterno: González\n",
            "Materno: Pérez\n"
          ]
        }
      ]
    }
  ]
}