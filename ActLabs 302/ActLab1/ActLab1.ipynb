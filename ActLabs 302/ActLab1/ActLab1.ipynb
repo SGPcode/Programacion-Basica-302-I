{
  "nbformat": 4,
  "nbformat_minor": 0,
  "metadata": {
    "colab": {
      "provenance": [],
      "authorship_tag": "ABX9TyNWEbVODz+t6SAv/5duBh0h",
      "include_colab_link": true
    },
    "kernelspec": {
      "name": "python3",
      "display_name": "Python 3"
    },
    "language_info": {
      "name": "python"
    }
  },
  "cells": [
    {
      "cell_type": "markdown",
      "metadata": {
        "id": "view-in-github",
        "colab_type": "text"
      },
      "source": [
        "<a href=\"https://colab.research.google.com/github/SGPcode/Programacion-Basica-302-I/blob/main/ActLabs%20302/ActLab1/ActLab1.ipynb\" target=\"_parent\"><img src=\"https://colab.research.google.com/assets/colab-badge.svg\" alt=\"Open In Colab\"/></a>"
      ]
    },
    {
      "cell_type": "markdown",
      "source": [
        "Actividad de Laboratorio 1 Impresión de Mensajes"
      ],
      "metadata": {
        "id": "peC6Cze3xhoU"
      }
    },
    {
      "cell_type": "markdown",
      "source": [
        "PB302_1.cpp Programa para Bienvenida"
      ],
      "metadata": {
        "id": "_y2bY7D-mmaf"
      }
    },
    {
      "cell_type": "code",
      "source": [
        "%%writefile PB302_1.cpp\n",
        "//Programa para imprimir mensaje de bienvenida\n",
        "//Creado por Sergio González Pérez\n",
        "//Fecha: 15/Septiembre/2025\n",
        "//PB302_1.cpp\n",
        "#include <iostream>\n",
        "using namespace std;\n",
        "int main()\n",
        "{\n",
        "  cout<<\"Bienvenido Sergio a Programación Básica en C++\\n\";\n",
        "  cout<<\"Gracias por Programar en clase\";\n",
        "  return 0;\n",
        "}"
      ],
      "metadata": {
        "colab": {
          "base_uri": "https://localhost:8080/"
        },
        "id": "iVa95PyPnLtn",
        "outputId": "6f85159e-a029-48af-9c26-114aa63089d7"
      },
      "execution_count": 11,
      "outputs": [
        {
          "output_type": "stream",
          "name": "stdout",
          "text": [
            "Writing PB302_1.cpp\n"
          ]
        }
      ]
    },
    {
      "cell_type": "code",
      "source": [
        "!g++ PB302_1.cpp -o PB302_1\n",
        "!./PB302_1"
      ],
      "metadata": {
        "colab": {
          "base_uri": "https://localhost:8080/"
        },
        "id": "HTIoZFrJpw3u",
        "outputId": "ddcea0ad-cacf-47ab-fe84-8e7dff85b6f6"
      },
      "execution_count": 12,
      "outputs": [
        {
          "output_type": "stream",
          "name": "stdout",
          "text": [
            "Bienvenido Sergio a Programación Básica en C++\n",
            "Gracias por Programar en clase"
          ]
        }
      ]
    },
    {
      "cell_type": "markdown",
      "source": [
        "PB302_2.- Programa para Imprimir Datos Personales"
      ],
      "metadata": {
        "id": "oLnIo3__9ED7"
      }
    },
    {
      "cell_type": "code",
      "source": [
        "%%writefile PB302_2.cpp\n",
        "//Programa para imprimir mensaje de bienvenida\n",
        "//Creado por Sergio González Pérez\n",
        "//Fecha: 15/Septiembre/2025\n",
        "//PB302_2.cpp\n",
        "#include <iostream>\n",
        "using namespace std;\n",
        "int main()\n",
        "{\n",
        "  char nombre[10]=\"Sergio\";\n",
        "  char paterno[10]=\"González\";\n",
        "  char materno[10]=\"Pérez\";\n",
        "  cout<<\"Los datos Definidos son los siguientes:\\n\";\n",
        "  cout<<\"Nombre: \"<<nombre<<\"\\n\";\n",
        "  cout<<\"Paterno: \"<<paterno<<\"\\n\";\n",
        "  cout<<\"Materno: \"<<materno<<\"\\n\";\n",
        "\n",
        "  return 0;\n",
        "}"
      ],
      "metadata": {
        "colab": {
          "base_uri": "https://localhost:8080/"
        },
        "id": "YuAJILty_R5o",
        "outputId": "5d9263ce-e7ce-4f2b-a9c0-23910e52dce4"
      },
      "execution_count": 13,
      "outputs": [
        {
          "output_type": "stream",
          "name": "stdout",
          "text": [
            "Overwriting PB302_2.cpp\n"
          ]
        }
      ]
    },
    {
      "cell_type": "code",
      "source": [
        "!g++ PB302_2.cpp -o PB302_2\n",
        "!./PB302_2"
      ],
      "metadata": {
        "colab": {
          "base_uri": "https://localhost:8080/"
        },
        "id": "GZME8ZBs9zYh",
        "outputId": "a5a7b6ff-137d-40c8-837e-d52516263f86"
      },
      "execution_count": 14,
      "outputs": [
        {
          "output_type": "stream",
          "name": "stdout",
          "text": [
            "Los datos Definidos son los siguientes:\n",
            "Nombre: Sergio\n",
            "Paterno: González\n",
            "Materno: Pérez\n"
          ]
        }
      ]
    }
  ]
}