{
  "nbformat": 4,
  "nbformat_minor": 0,
  "metadata": {
    "colab": {
      "provenance": [],
      "authorship_tag": "ABX9TyPV0gBZpOcsBkdeWi3KS9w/",
      "include_colab_link": true
    },
    "kernelspec": {
      "name": "python3",
      "display_name": "Python 3"
    },
    "language_info": {
      "name": "python"
    }
  },
  "cells": [
    {
      "cell_type": "markdown",
      "metadata": {
        "id": "view-in-github",
        "colab_type": "text"
      },
      "source": [
        "<a href=\"https://colab.research.google.com/github/SGPcode/Programacion-Basica-302-I/blob/main/ActLabs%20302/ActLab1/Actlab1.ipynb\" target=\"_parent\"><img src=\"https://colab.research.google.com/assets/colab-badge.svg\" alt=\"Open In Colab\"/></a>"
      ]
    },
    {
      "cell_type": "markdown",
      "source": [
        "Actividad de Laboratorio #1"
      ],
      "metadata": {
        "id": "a6_NpfJRTFfd"
      }
    },
    {
      "cell_type": "markdown",
      "source": [
        "PB302_1.cpp Programa para mensajes de Bienvenida"
      ],
      "metadata": {
        "id": "Qv-1H1oxTQQL"
      }
    },
    {
      "cell_type": "code",
      "execution_count": 1,
      "metadata": {
        "colab": {
          "base_uri": "https://localhost:8080/"
        },
        "id": "HAJnB6_eStPA",
        "outputId": "ae03bf29-3d44-4bdb-bc9c-6530f94ab6b8"
      },
      "outputs": [
        {
          "output_type": "stream",
          "name": "stdout",
          "text": [
            "Writing PB302_1.cpp\n"
          ]
        }
      ],
      "source": [
        "%%writefile PB302_1.cpp\n",
        "//Programa para imprimir mensajes de Bienvenida\n",
        "//Creado por Sergio González Pérez\n",
        "//Fecha:17/Septiembre/2025\n",
        "//PB301_1.cpp\n",
        "#include <iostream>\n",
        "using namespace std;\n",
        "int main()\n",
        "{\n",
        "  cout<<\"Bienvenidos a Programación Básica en C++\\n\";\n",
        "  cout<<\"Este es el primer programa en C++\\n\";\n",
        "  return 0;\n",
        "}"
      ]
    },
    {
      "cell_type": "markdown",
      "source": [
        "Prueba de Escritorio"
      ],
      "metadata": {
        "id": "nDUIRqunYfwE"
      }
    },
    {
      "cell_type": "code",
      "source": [
        "!g++ PB302_1.cpp -o PB302_1.exe\n",
        "!./PB302_1.exe\n"
      ],
      "metadata": {
        "colab": {
          "base_uri": "https://localhost:8080/"
        },
        "id": "WSZeCRQqV9As",
        "outputId": "59df808e-9165-4a86-dd02-b77464f9c438"
      },
      "execution_count": 2,
      "outputs": [
        {
          "output_type": "stream",
          "name": "stdout",
          "text": [
            "Bienvenidos a Programación Básica en C++\n",
            "Este es el primer programa en C++\n"
          ]
        }
      ]
    },
    {
      "cell_type": "markdown",
      "source": [
        "PB302_2.cpp Programa para imprimir datos personales"
      ],
      "metadata": {
        "id": "rd5_eQNFq16y"
      }
    },
    {
      "cell_type": "code",
      "source": [
        "%%writefile PB302_2.cpp\n",
        "//Programa para Mostrar datos personales\n",
        "//Creado por Sergio González Pérez\n",
        "//Fecha:18/Septiembre/2025\n",
        "//PB302_2.cpp\n",
        "#include <iostream>\n",
        "using namespace std;\n",
        "int main()\n",
        "{\n",
        "  char nombre[10]=\"Sergio\";\n",
        "  char paterno[10]=\"González\";\n",
        "  char materno[10]=\"Pérez\";\n",
        "  int edad=16;\n",
        "  char dirección[40]=\" Tu direccion completa\";\n",
        "  char fechanac[11]=\"18/09/2025\";\n",
        "  char ciudadnac[40]=\"Tu ciudad de nacimiento\";\n",
        "  cout<<\"Tu Nombre completo es:\\n\";\n",
        "  cout<<nombre<<\"\\n\";\n",
        "  cout<<paterno<<\"\\n\";\n",
        "  cout<<materno<<\"\\n\";\n",
        "  cout<<edad<<\"\\n\";\n",
        "  cout<<dirección<<\"\\n\";\n",
        "  cout<<fechanac<<\"\\n\";\n",
        "  cout<<ciudadnac<<\"\\n\";\n",
        "  return 0;\n",
        "}"
      ],
      "metadata": {
        "colab": {
          "base_uri": "https://localhost:8080/"
        },
        "id": "w0OCbk2Bq9hx",
        "outputId": "06948438-c0c9-49c4-89c5-6be29721ef11"
      },
      "execution_count": 13,
      "outputs": [
        {
          "output_type": "stream",
          "name": "stdout",
          "text": [
            "Overwriting PB302_2.cpp\n"
          ]
        }
      ]
    },
    {
      "cell_type": "code",
      "source": [
        "!g++ PB302_2.cpp -o PB302_2.exe\n",
        "!./PB302_2.exe"
      ],
      "metadata": {
        "colab": {
          "base_uri": "https://localhost:8080/"
        },
        "id": "rgjAdMn3wkPy",
        "outputId": "d213e295-7c31-40f0-e27e-d9f17e2a7b30"
      },
      "execution_count": 14,
      "outputs": [
        {
          "output_type": "stream",
          "name": "stdout",
          "text": [
            "Tu Nombre completo es:\n",
            "Sergio\n",
            "González\n",
            "Pérez\n",
            "16\n",
            " Tu direccion completa\n",
            "18/09/2025\n",
            "Tu ciudad de nacimiento\n"
          ]
        }
      ]
    }
  ]
}